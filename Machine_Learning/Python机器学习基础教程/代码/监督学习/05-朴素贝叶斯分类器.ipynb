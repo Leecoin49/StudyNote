{
 "cells": [
  {
   "cell_type": "code",
   "execution_count": 2,
   "id": "initial_id",
   "metadata": {
    "collapsed": true,
    "ExecuteTime": {
     "end_time": "2024-03-21T01:02:01.778532700Z",
     "start_time": "2024-03-21T01:02:01.766024500Z"
    }
   },
   "outputs": [],
   "source": [
    "import numpy as np \n",
    "import matplotlib.pyplot as plt \n",
    "import pandas as pd \n",
    "import mglearn"
   ]
  },
  {
   "cell_type": "code",
   "outputs": [
    {
     "ename": "SyntaxError",
     "evalue": "unterminated string literal (detected at line 1) (3757932147.py, line 1)",
     "output_type": "error",
     "traceback": [
      "\u001B[1;36m  Cell \u001B[1;32mIn[3], line 1\u001B[1;36m\u001B[0m\n\u001B[1;33m    \"\u001B[0m\n\u001B[1;37m    ^\u001B[0m\n\u001B[1;31mSyntaxError\u001B[0m\u001B[1;31m:\u001B[0m unterminated string literal (detected at line 1)\n"
     ]
    }
   ],
   "source": [
    "\"\"\"\n",
    "    朴素贝叶斯分类器\n",
    "        朴素贝叶斯分类器是与上一节介绍的线性模型非常相似的一种分类器，但它的训练速度往往更快。\n",
    "        这种高效率所付出的代价是，朴素贝叶斯模型的 泛化能力 要比线性分类器（如 LogisticRegression 和 LinearSVC）稍差。\n",
    "    \n",
    "    朴素贝叶斯模型如此高效的原因在于，它通过单独查看每个特征来学习参数，并从每个特征中收集简单的类别统计数据。\n",
    "    scikit-learn 中实现了三种朴素贝叶斯分类器：GaussianNB、BernoulliNB 和 MultinomialNB。\n",
    "        GaussianNB 可应用于 任意连续数据; \n",
    "        BernoulliNB 假定输入数据为 二分类数据;\n",
    "        MultinomialNB 假定输入数据为 计数数据（即每个特征代表某个对象的整数计数，比如一个单词在句子里出现的次数）。\n",
    "        MultinomialNB 主要用于文本数据分类。\n",
    "\"\"\""
   ],
   "metadata": {
    "collapsed": false,
    "ExecuteTime": {
     "end_time": "2024-03-21T01:02:17.287090800Z",
     "start_time": "2024-03-21T01:02:17.271135800Z"
    }
   },
   "id": "e87cc124feacf845",
   "execution_count": 3
  },
  {
   "cell_type": "code",
   "outputs": [
    {
     "name": "stdout",
     "output_type": "stream",
     "text": [
      "Feature counts:\n",
      "{0: array([0, 1, 0, 2]), 1: array([2, 0, 2, 1])}\n"
     ]
    }
   ],
   "source": [
    "\"\"\"\n",
    "    BernoulliNB 分类器计算每个类别中每个特征不为 0 的元素个数。\n",
    "    用一个例子来说明会很容易理解：\n",
    "    这里我们有 4 个数据点，每个点有 4 个二分类特征。\n",
    "    一共有两个类别：0 和 1。\n",
    "\"\"\"\n",
    "X = np.array([[0, 1, 0, 1],\n",
    "              [1, 0, 1, 1],\n",
    "              [0, 0, 0, 1],\n",
    "              [1, 0, 1, 0]])\n",
    "# y为标签数组，决定了x中数据点的类别，如y中第一个数据点为0，表示x中的第1个数据点为类别0\n",
    "y = np.array([0, 1, 0, 1])\n",
    "\"\"\"   \n",
    "    对于类别 0（第 1、3 个数据点），\n",
    "        第一个特征有 2 个为零、0 个不为零，\n",
    "        第二个特征有 1 个为零、1 个不为零，以此类推。\n",
    "    然后对类别 1 中的数据点计算相同的计数。\n",
    "    计算每个类别中的非零元素个数，大体上看起来像这样：\n",
    "\"\"\"\n",
    "\n",
    "counts = {}\n",
    "for label in np.unique(y):\n",
    "    # 对每个类别进行遍历\n",
    "    # 计算（求和）每个特征中1的个数\n",
    "    counts[label] = X[y == label].sum(axis=0)\n",
    "print(\"Feature counts:\\n{}\".format(counts))"
   ],
   "metadata": {
    "collapsed": false,
    "ExecuteTime": {
     "end_time": "2024-03-21T01:11:56.003594500Z",
     "start_time": "2024-03-21T01:11:55.990320300Z"
    }
   },
   "id": "a781034224ffcd49",
   "execution_count": 6
  },
  {
   "cell_type": "code",
   "outputs": [],
   "source": [
    "\"\"\"\n",
    "    另外两种朴素贝叶斯模型（MultinomialNB 和 GaussianNB）计算的统计数据类型略有不同。\n",
    "        MultinomialNB 计算每个类别中每个特征的 平均值 ;\n",
    "        GaussianNB 会保存每个类别中每个特征的 平均值 和 标准差 。\n",
    "\n",
    "    要想做出预测，需要将数据点与每个类别的统计数据进行比较，并将最匹配的类别作为预测结果。\n",
    "    有趣的是，MultinomialNB 和 BernoulliNB 预测公式的形式都与线性模型完全相同.\n",
    "    不幸的是，朴素贝叶斯模型 coef_ 的含义与线性模型稍有不同，因为 coef_不同于 w。\n",
    "\"\"\""
   ],
   "metadata": {
    "collapsed": false
   },
   "id": "e67828088926b287"
  },
  {
   "cell_type": "code",
   "outputs": [],
   "source": [
    "\"\"\"\n",
    "    优点、缺点和参数\n",
    "    MultinomialNB 和 BernoulliNB 都只有一个参数 alpha，用于控制模型复杂度。\n",
    "    alpha 的工作原理是，算法向数据中添加 alpha 这么多的虚拟数据点，这些点对所有特征都取正值。\n",
    "    \n",
    "    这可以将统计数据“平滑化”（smoothing）。\n",
    "    alpha 越大，平滑化越强，模型复杂度就越低。 \n",
    "    算法性能对 alpha 值的鲁棒性相对较好，也就是说，alpha 值对模型性能并不重要。\n",
    "    但调整这个参数通常都会使精度略有提高。\n",
    "    \n",
    "    GaussianNB 主要用于高维数据，而另外两种朴素贝叶斯模型则广泛用于稀疏计数数据，比如文本。\n",
    "    MultinomialNB 的性能通常要优于 BernoulliNB，特别是在包含很多非零特征的数据集（即大型文档）上。\n",
    "\"\"\""
   ],
   "metadata": {
    "collapsed": false
   },
   "id": "fe2b7a7e8788b347"
  },
  {
   "cell_type": "code",
   "outputs": [],
   "source": [
    "\"\"\"\n",
    "    朴素贝叶斯模型的许多优点和缺点都与线性模型相同。\n",
    "    它的训练和预测速度都很快，训练过程也很容易理解。\n",
    "    该模型对 高维稀疏数据 的效果很好，对参数的鲁棒性也相对较好。\n",
    "    朴素贝叶斯模型是很好的基准模型，常用于非常大的数据集，在这些数据集上即使训练线性模型可能也要花费大量时间。\n",
    "\"\"\""
   ],
   "metadata": {
    "collapsed": false
   },
   "id": "952eb78dbfc8b49f"
  }
 ],
 "metadata": {
  "kernelspec": {
   "display_name": "Python 3",
   "language": "python",
   "name": "python3"
  },
  "language_info": {
   "codemirror_mode": {
    "name": "ipython",
    "version": 2
   },
   "file_extension": ".py",
   "mimetype": "text/x-python",
   "name": "python",
   "nbconvert_exporter": "python",
   "pygments_lexer": "ipython2",
   "version": "2.7.6"
  }
 },
 "nbformat": 4,
 "nbformat_minor": 5
}
